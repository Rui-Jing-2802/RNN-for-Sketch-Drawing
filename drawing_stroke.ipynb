{
 "cells": [
  {
   "cell_type": "markdown",
   "metadata": {},
   "source": [
    "## Convert PNG files to PBM files:"
   ]
  },
  {
   "cell_type": "code",
   "execution_count": 1,
   "metadata": {},
   "outputs": [],
   "source": [
    "import cv2\n",
    "import os\n",
    "import os\n",
    "from svgpathtools import svg2paths\n",
    "import matplotlib.pyplot as plt\n",
    "\n",
    "output_dir = \"./PBM\"\n",
    "os.makedirs(output_dir, exist_ok=True)\n",
    "\n",
    "for i in range(1, 6):  # process from image_1 to image_5\n",
    "    img_path = f\"./img/image_{i}.png\"\n",
    "    pbm_path = f\"{output_dir}/image_{i}.pbm\"\n",
    "\n",
    "    img = cv2.imread(img_path, cv2.IMREAD_GRAYSCALE)\n",
    "\n",
    "    _, binary = cv2.threshold(img, 128, 255, cv2.THRESH_BINARY)\n",
    "\n",
    "    cv2.imwrite(pbm_path, binary)"
   ]
  },
  {
   "cell_type": "markdown",
   "metadata": {},
   "source": [
    "## Use Potrace to Convert PBM files to SVG files:"
   ]
  },
  {
   "cell_type": "code",
   "execution_count": 2,
   "metadata": {},
   "outputs": [],
   "source": [
    "pbm_dir = \"./PBM\"\n",
    "svg_dir = \"./SVG\"\n",
    "\n",
    "os.makedirs(svg_dir, exist_ok=True)\n",
    "\n",
    "for i in range(1, 6): \n",
    "    pbm_path = f\"{pbm_dir}/image_{i}.pbm\"\n",
    "    svg_path = f\"{svg_dir}/image_{i}.svg\"\n",
    "\n",
    "    # check if PBM files exists\n",
    "    if not os.path.exists(pbm_path):\n",
    "        print(f\"{pbm_path} doesn't exist\")\n",
    "        continue\n",
    "\n",
    "    # Convert to SVG using Potrace\n",
    "    command = f\"potrace -s {pbm_path} -o {svg_path}\"\n",
    "    os.system(command)"
   ]
  },
  {
   "cell_type": "markdown",
   "metadata": {},
   "source": [
    "## Extract the drawing strokes:\n",
    "Take image_1.svg as an example"
   ]
  },
  {
   "cell_type": "code",
   "execution_count": 3,
   "metadata": {},
   "outputs": [
    {
     "data": {
      "image/png": "[encoded data removed]",
      "text/plain": [
       "<Figure size 640x480 with 1 Axes>"
      ]
     },
     "metadata": {},
     "output_type": "display_data"
    }
   ],
   "source": [
    "# Read SVG path\n",
    "svg_path = \"./SVG/image_1.svg\"\n",
    "paths, _ = svg2paths(svg_path)\n",
    "\n",
    "# extract strokes in the pat\n",
    "strokes = []\n",
    "for path in paths:\n",
    "    for segment in path:\n",
    "        strokes.append((segment.start.real, segment.start.imag))\n",
    "\n",
    "# visualize the path\n",
    "x_vals, y_vals = zip(*strokes)\n",
    "plt.plot(x_vals, y_vals, marker='o')\n",
    "plt.gca().invert_yaxis()  \n",
    "plt.show()\n"
   ]
  },
  {
   "cell_type": "markdown",
   "metadata": {},
   "source": [
    "## Convert SVG to Sketch-RNN Format for all images\n",
    "Sketch-RNN requires stroke data in the format: $(dx, dy, p1, p2, p3)$"
   ]
  },
  {
   "cell_type": "code",
   "execution_count": 4,
   "metadata": {},
   "outputs": [
    {
     "name": "stdout",
     "output_type": "stream",
     "text": [
      "[[30.0, -24.0, 1, 0, 0], [153.0, -92.0, 1, 0, 0], [14.0, -8.0, 1, 0, 0], [19.0, -20.0, 1, 0, 0], [25.0, -27.0, 1, 0, 0], [122.0, -119.0, 1, 0, 0], [15.0, -14.0, 1, 0, 0], [25.0, -25.0, 1, 0, 0], [50.0, -51.0, 1, 0, 0], [40.0, -39.0, 1, 0, 0]]\n"
     ]
    }
   ],
   "source": [
    "sketch_data = []\n",
    "prev_x, prev_y = strokes[0]\n",
    "\n",
    "for x, y in strokes[1:]:\n",
    "    dx = x - prev_x\n",
    "    dy = y - prev_y\n",
    "    sketch_data.append([dx, dy, 1, 0, 0]) \n",
    "    prev_x, prev_y = x, y\n",
    "\n",
    "sketch_data[-1][-1] = 1\n",
    "\n",
    "# view the Sketch-RNN input format\n",
    "print(sketch_data[:10])  "
   ]
  },
  {
   "cell_type": "markdown",
   "metadata": {},
   "source": [
    "## Now store as npz format for all images"
   ]
  },
  {
   "cell_type": "code",
   "execution_count": 5,
   "metadata": {},
   "outputs": [
    {
     "name": "stdout",
     "output_type": "stream",
     "text": [
      "All SVG files converted and saved as NPZ.\n"
     ]
    }
   ],
   "source": [
    "import numpy as np\n",
    "import matplotlib.pyplot as plt\n",
    "from svgpathtools import svg2paths\n",
    "import os\n",
    "\n",
    "# Function to convert SVG paths to Sketch-RNN format\n",
    "def svg_to_sketch_rnn(svg_path):\n",
    "    paths, _ = svg2paths(svg_path)\n",
    "\n",
    "    strokes = []\n",
    "    for path in paths:\n",
    "        for segment in path:\n",
    "            strokes.append((segment.start.real, segment.start.imag))\n",
    "\n",
    "    sketch_data = []\n",
    "    prev_x, prev_y = strokes[0]\n",
    "\n",
    "    for x, y in strokes[1:]:\n",
    "        dx = x - prev_x\n",
    "        dy = y - prev_y\n",
    "        sketch_data.append([dx, dy, 1, 0, 0])  \n",
    "        prev_x, prev_y = x, y\n",
    "\n",
    "    sketch_data[-1][-1] = 1  # Mark the last point as the \"end\"\n",
    "    \n",
    "    return np.array(sketch_data)\n",
    "\n",
    "\n",
    "svg_dir = \"./SVG\"\n",
    "output_dir = \"./data\"\n",
    "os.makedirs(output_dir, exist_ok=True)\n",
    "\n",
    "\n",
    "for i in range(1, 6): \n",
    "    svg_path = os.path.join(svg_dir, f\"image_{i}.svg\")\n",
    "    npz_path = os.path.join(output_dir, f\"image_{i}.npz\")\n",
    "\n",
    "    # Convert SVG to Sketch-RNN format\n",
    "    sketch_data = svg_to_sketch_rnn(svg_path)\n",
    "\n",
    "    # Save as .npz file\n",
    "    np.savez(npz_path, sketch_data=sketch_data)\n",
    "\n",
    "print(\"All SVG files converted and saved as NPZ.\")"
   ]
  }
 ],
 "metadata": {
  "kernelspec": {
   "display_name": "base",
   "language": "python",
   "name": "python3"
  },
  "language_info": {
   "codemirror_mode": {
    "name": "ipython",
    "version": 3
   },
   "file_extension": ".py",
   "mimetype": "text/x-python",
   "name": "python",
   "nbconvert_exporter": "python",
   "pygments_lexer": "ipython3",
   "version": "3.12.7"
  }
 },
 "nbformat": 4,
 "nbformat_minor": 2
}
